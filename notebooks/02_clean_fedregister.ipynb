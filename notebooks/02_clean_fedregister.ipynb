{
 "cells": [
  {
   "cell_type": "markdown",
   "id": "8e91037f",
   "metadata": {},
   "source": [
    "# Clean US Tariff data from Federal Registry"
   ]
  },
  {
   "cell_type": "markdown",
   "id": "24e669ad",
   "metadata": {},
   "source": [
    "## Setup"
   ]
  },
  {
   "cell_type": "code",
   "execution_count": 1,
   "id": "76e7643a",
   "metadata": {},
   "outputs": [],
   "source": [
    "import pandas as pd\n",
    "from pathlib import Path"
   ]
  },
  {
   "cell_type": "markdown",
   "id": "22f3176f",
   "metadata": {},
   "source": [
    "## Configs"
   ]
  },
  {
   "cell_type": "code",
   "execution_count": 4,
   "id": "627d6e6f",
   "metadata": {},
   "outputs": [],
   "source": [
    "RAW_DATA_PATH = Path(\"../data/raw/fedregister/fedregister_raw.parquet\")\n",
    "CLEAN_DATA_PATH = Path(\"../data/tidy/fedregister_clean.parquet\")\n",
    "DEDUPLICATION_KEY = \"document_number\""
   ]
  },
  {
   "cell_type": "markdown",
   "id": "1133ef2e",
   "metadata": {},
   "source": [
    "## Main"
   ]
  },
  {
   "cell_type": "markdown",
   "id": "89585714",
   "metadata": {},
   "source": [
    "### Load"
   ]
  },
  {
   "cell_type": "code",
   "execution_count": 5,
   "id": "47e4b940",
   "metadata": {},
   "outputs": [
    {
     "name": "stdout",
     "output_type": "stream",
     "text": [
      "Raw documents loaded: 36,686\n"
     ]
    }
   ],
   "source": [
    "df_raw = pd.read_parquet(RAW_DATA_PATH)\n",
    "print(f\"Raw documents loaded: {len(df_raw):,}\")"
   ]
  },
  {
   "cell_type": "markdown",
   "id": "d75f54ad",
   "metadata": {},
   "source": [
    "### Deduplicate"
   ]
  },
  {
   "cell_type": "code",
   "execution_count": 6,
   "id": "4019ddb3",
   "metadata": {},
   "outputs": [
    {
     "name": "stdout",
     "output_type": "stream",
     "text": [
      "Unique documents after deduplication: 32,764\n"
     ]
    }
   ],
   "source": [
    "df_clean = df_raw.drop_duplicates(subset=DEDUPLICATION_KEY)\n",
    "print(f\"Unique documents after deduplication: {len(df_clean):,}\")"
   ]
  },
  {
   "cell_type": "markdown",
   "id": "ff1590a8",
   "metadata": {},
   "source": [
    "### Save"
   ]
  },
  {
   "cell_type": "code",
   "execution_count": 7,
   "id": "6dc68437",
   "metadata": {},
   "outputs": [
    {
     "name": "stdout",
     "output_type": "stream",
     "text": [
      "Cleaned data saved to: ../data/tidy/fedregister_clean.parquet\n"
     ]
    }
   ],
   "source": [
    "CLEAN_DATA_PATH.parent.mkdir(parents=True, exist_ok=True)\n",
    "df_clean.to_parquet(CLEAN_DATA_PATH, index=False)\n",
    "print(f\"Cleaned data saved to: {CLEAN_DATA_PATH}\")"
   ]
  }
 ],
 "metadata": {
  "kernelspec": {
   "display_name": "tariff-env",
   "language": "python",
   "name": "python3"
  },
  "language_info": {
   "codemirror_mode": {
    "name": "ipython",
    "version": 3
   },
   "file_extension": ".py",
   "mimetype": "text/x-python",
   "name": "python",
   "nbconvert_exporter": "python",
   "pygments_lexer": "ipython3",
   "version": "3.12.10"
  }
 },
 "nbformat": 4,
 "nbformat_minor": 5
}
